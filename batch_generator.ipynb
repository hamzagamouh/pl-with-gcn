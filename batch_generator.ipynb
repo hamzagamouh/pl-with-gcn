{
 "cells": [
  {
   "cell_type": "code",
   "execution_count": 14,
   "metadata": {},
   "outputs": [],
   "source": [
    "import os\n",
    "import time\n",
    "import numpy as np\n",
    "import pandas as pd\n",
    "import pickle\n",
    "import dgl\n",
    "import torch\n",
    "import torch.nn as nn\n",
    "import torch.nn.functional as F\n",
    "import shutil\n",
    "import zipfile\n",
    "import scipy\n",
    "\n",
    "\n",
    "data_folder=\"../DATA/holo4k preprocessed\"\n",
    "batch_size=32\n",
    "p2rank_test=list(pd.read_csv(\"../DATA/p2rank_test.csv\")[\"pdb_id\"])"
   ]
  },
  {
   "cell_type": "code",
   "execution_count": 15,
   "metadata": {},
   "outputs": [],
   "source": [
    "def get_batch(a,mode,emb_name,graphs):\n",
    "    b=a+batch_size\n",
    "    print(f\"{mode} batch : {a} - {b}\")\n",
    "    with zipfile.ZipFile(data_folder+f'/{emb_name}.zip') as thezip:\n",
    "        for k,graph in enumerate(graphs[a:b]):\n",
    "            g=pickle.load(thezip.open(graph,\"r\"))\n",
    "            if k==0:\n",
    "                batch_graph=g\n",
    "            else:\n",
    "                batch_graph=dgl.batch([batch_graph,g])\n",
    "    \n",
    "    return batch_graph\n",
    "\n",
    "def batch_data(mode,emb_name):\n",
    "    with open(f\"../DATA/holo4k splits/holo4k_{mode}.txt\") as f:\n",
    "        graphs=[f\"{emb_name}_{x.strip()}.p\" for x in f.readlines() if x[:4] in p2rank_test]\n",
    "    with zipfile.ZipFile(f'../DATA/holo4k batched/{emb_name}_{mode}_p2rank_batched_{batch_size}.zip',\"w\") as thezip:\n",
    "        a=0\n",
    "        while a<len(graphs):\n",
    "            # load batch\n",
    "            graph=get_batch(a,mode,emb_name,graphs)\n",
    "            filename=f\"{emb_name}_{mode}_{a}_{a+batch_size}.p\"\n",
    "            pickle.dump(graph,open(filename,\"wb\"))\n",
    "            thezip.write(filename,filename,compress_type=zipfile.ZIP_BZIP2)\n",
    "            os.remove(filename)\n",
    "            a+=batch_size\n",
    "            "
   ]
  },
  {
   "cell_type": "markdown",
   "metadata": {},
   "source": [
    "#### Make Folds for CV"
   ]
  },
  {
   "cell_type": "code",
   "execution_count": 112,
   "metadata": {},
   "outputs": [],
   "source": [
    "emb_name=\"onehot\"\n",
    "data_folder=\"../DATA/holo4k preprocessed/\"\n",
    "with zipfile.ZipFile(data_folder+f'/{emb_name}.zip') as thezip:\n",
    "    all_files=[x.replace(emb_name+\"_\",\"\") for x in thezip.namelist()]\n",
    "    all_unps=np.unique([x.replace(emb_name,\"\")[8:][:-2] for x in thezip.namelist()])\n"
   ]
  },
  {
   "cell_type": "code",
   "execution_count": 98,
   "metadata": {},
   "outputs": [],
   "source": [
    "from sklearn.model_selection import train_test_split,KFold\n",
    "model_unps,test_unps=train_test_split(all_unps,test_size=0.1)"
   ]
  },
  {
   "cell_type": "code",
   "execution_count": 99,
   "metadata": {},
   "outputs": [],
   "source": [
    "n_folds=5\n",
    "splitter=KFold(n_splits=n_folds,shuffle=True)\n",
    "train_folds=[]\n",
    "val_folds=[]\n",
    "for train_idx,val_idx in splitter.split(model_unps):\n",
    "    train_folds.append(model_unps[train_idx])\n",
    "    val_folds.append(model_unps[val_idx])"
   ]
  },
  {
   "cell_type": "code",
   "execution_count": 108,
   "metadata": {},
   "outputs": [
    {
     "name": "stdout",
     "output_type": "stream",
     "text": [
      "set()\n",
      "set()\n",
      "set()\n",
      "set()\n",
      "set()\n"
     ]
    }
   ],
   "source": [
    "for k in range(n_folds):\n",
    "    with open(f\"../DATA/holo4k splits/holo4k_fold_{k}_train.txt\",\"w\") as f:\n",
    "        for file in all_files:\n",
    "            for unp_id in train_folds[k]:\n",
    "                if unp_id in file:\n",
    "                    f.write(file)\n",
    "                    f.write(\"\\n\")\n",
    "    \n",
    "    with open(f\"../DATA/holo4k splits/holo4k_fold_{k}_val.txt\",\"w\") as f:\n",
    "        for file in all_files:\n",
    "            for unp_id in val_folds[k]:\n",
    "                if unp_id in file:\n",
    "                    f.write(file)\n",
    "                    f.write(\"\\n\")\n",
    "    \n",
    "    print(set(train_folds[k]).intersection(set(val_folds[k])))\n",
    "\n",
    "with open(f\"../DATA/holo4k splits/holo4k_test.txt\",\"w\") as f:\n",
    "    for file in all_files:\n",
    "        for unp_id in test_unps:\n",
    "            if unp_id in file:\n",
    "                f.write(file)\n",
    "                f.write(\"\\n\")\n",
    "\n"
   ]
  },
  {
   "cell_type": "code",
   "execution_count": 16,
   "metadata": {},
   "outputs": [
    {
     "name": "stdout",
     "output_type": "stream",
     "text": [
      "xlnet\n",
      "test batch : 0 - 32\n",
      "test batch : 32 - 64\n",
      "test batch : 64 - 96\n",
      "test batch : 96 - 128\n",
      "test batch : 128 - 160\n",
      "test batch : 160 - 192\n",
      "test batch : 192 - 224\n",
      "test batch : 224 - 256\n",
      "test batch : 256 - 288\n",
      "test batch : 288 - 320\n",
      "test batch : 320 - 352\n",
      "test batch : 352 - 384\n",
      "test batch : 384 - 416\n",
      "test batch : 416 - 448\n",
      "test batch : 448 - 480\n",
      "test batch : 480 - 512\n",
      "test batch : 512 - 544\n",
      "test batch : 544 - 576\n",
      "test batch : 576 - 608\n"
     ]
    }
   ],
   "source": [
    "for EMB_NAME in [\"xlnet\"]:#[\"onehot\",\"bert\",\"xlnet\"]:\n",
    "    print(EMB_NAME)\n",
    "    batch_data(\"test\",EMB_NAME)\n",
    "    # for k in range(5):\n",
    "    #     print(f\"FOLD {k} TRAIN _______________________________________\")\n",
    "    #     batch_data(f\"fold_{k}_train\",EMB_NAME)\n",
    "    #     batch_data(f\"fold_{k}_val\",EMB_NAME)"
   ]
  },
  {
   "cell_type": "code",
   "execution_count": 5,
   "metadata": {},
   "outputs": [
    {
     "name": "stdout",
     "output_type": "stream",
     "text": [
      "onehot_model_dev_0_32.p\n",
      "onehot_model_dev_32_64.p\n",
      "onehot_model_dev_64_96.p\n",
      "onehot_model_dev_96_128.p\n",
      "onehot_model_dev_128_160.p\n",
      "onehot_model_dev_160_192.p\n",
      "onehot_model_dev_192_224.p\n",
      "onehot_model_dev_224_256.p\n",
      "onehot_model_dev_256_288.p\n",
      "onehot_model_dev_288_320.p\n",
      "onehot_model_dev_320_352.p\n",
      "onehot_model_dev_352_384.p\n",
      "onehot_model_dev_384_416.p\n",
      "onehot_model_dev_416_448.p\n",
      "onehot_model_dev_448_480.p\n",
      "onehot_model_dev_480_512.p\n",
      "onehot_model_dev_512_544.p\n",
      "onehot_model_dev_544_576.p\n",
      "onehot_model_dev_576_608.p\n",
      "onehot_model_dev_608_640.p\n",
      "onehot_model_dev_640_672.p\n",
      "onehot_model_dev_672_704.p\n",
      "onehot_model_dev_704_736.p\n",
      "onehot_model_dev_736_768.p\n",
      "onehot_model_dev_768_800.p\n",
      "onehot_model_dev_800_832.p\n",
      "onehot_model_dev_832_864.p\n",
      "onehot_model_dev_864_896.p\n",
      "onehot_model_dev_896_928.p\n",
      "onehot_model_dev_928_960.p\n",
      "onehot_model_dev_960_992.p\n",
      "onehot_model_dev_992_1024.p\n",
      "onehot_model_dev_1024_1056.p\n",
      "onehot_model_dev_1056_1088.p\n",
      "onehot_model_dev_1088_1120.p\n",
      "onehot_model_dev_1120_1152.p\n",
      "onehot_model_dev_1152_1184.p\n",
      "onehot_model_dev_1184_1216.p\n",
      "onehot_model_dev_1216_1248.p\n",
      "onehot_model_dev_1248_1280.p\n",
      "onehot_model_dev_1280_1312.p\n",
      "onehot_model_dev_1312_1344.p\n",
      "onehot_model_dev_1344_1376.p\n",
      "onehot_model_dev_1376_1408.p\n",
      "onehot_model_dev_1408_1440.p\n",
      "onehot_model_dev_1440_1472.p\n",
      "onehot_model_dev_1472_1504.p\n",
      "onehot_model_dev_1504_1536.p\n",
      "onehot_model_dev_1536_1568.p\n",
      "onehot_model_dev_1568_1600.p\n",
      "onehot_model_dev_1600_1632.p\n",
      "onehot_model_dev_1632_1664.p\n",
      "onehot_model_dev_1664_1696.p\n",
      "onehot_model_dev_1696_1728.p\n",
      "onehot_model_dev_1728_1760.p\n",
      "onehot_model_dev_1760_1792.p\n",
      "onehot_model_dev_1792_1824.p\n",
      "onehot_model_dev_1824_1856.p\n",
      "onehot_model_dev_1856_1888.p\n",
      "onehot_model_dev_1888_1920.p\n",
      "onehot_model_dev_1920_1952.p\n",
      "onehot_model_dev_1952_1984.p\n",
      "onehot_model_dev_1984_2016.p\n",
      "onehot_model_dev_2016_2048.p\n",
      "onehot_model_dev_2048_2080.p\n",
      "onehot_model_dev_2080_2112.p\n",
      "onehot_model_dev_2112_2144.p\n",
      "onehot_model_dev_2144_2176.p\n",
      "onehot_model_dev_2176_2208.p\n",
      "onehot_model_dev_2208_2240.p\n",
      "onehot_model_dev_2240_2272.p\n",
      "onehot_model_dev_2272_2304.p\n",
      "onehot_model_dev_2304_2336.p\n",
      "onehot_model_dev_2336_2368.p\n",
      "onehot_model_dev_2368_2400.p\n",
      "onehot_model_dev_2400_2432.p\n",
      "onehot_model_dev_2432_2464.p\n",
      "onehot_model_dev_2464_2496.p\n",
      "onehot_model_dev_2496_2528.p\n",
      "onehot_model_dev_2528_2560.p\n",
      "onehot_model_dev_2560_2592.p\n",
      "onehot_model_dev_2592_2624.p\n",
      "onehot_model_dev_2624_2656.p\n",
      "onehot_model_dev_2656_2688.p\n",
      "onehot_model_dev_2688_2720.p\n",
      "onehot_model_dev_2720_2752.p\n",
      "onehot_model_dev_2752_2784.p\n",
      "onehot_model_dev_2784_2816.p\n",
      "onehot_model_dev_2816_2848.p\n",
      "onehot_model_dev_2848_2880.p\n",
      "onehot_model_dev_2880_2912.p\n",
      "onehot_model_dev_2912_2944.p\n",
      "onehot_model_dev_2944_2976.p\n",
      "onehot_model_dev_2976_3008.p\n",
      "onehot_model_dev_3008_3040.p\n",
      "onehot_model_dev_3040_3072.p\n",
      "onehot_model_dev_3072_3104.p\n",
      "onehot_model_dev_3104_3136.p\n",
      "onehot_model_dev_3136_3168.p\n",
      "onehot_model_dev_3168_3200.p\n",
      "onehot_model_dev_3200_3232.p\n",
      "onehot_model_dev_3232_3264.p\n",
      "onehot_model_dev_3264_3296.p\n",
      "onehot_model_dev_3296_3328.p\n",
      "onehot_model_dev_3328_3360.p\n",
      "onehot_model_dev_3360_3392.p\n",
      "onehot_model_dev_3392_3424.p\n",
      "onehot_model_dev_3424_3456.p\n",
      "onehot_model_dev_3456_3488.p\n",
      "onehot_model_dev_3488_3520.p\n",
      "onehot_model_dev_3520_3552.p\n",
      "onehot_model_dev_3552_3584.p\n",
      "onehot_model_dev_3584_3616.p\n",
      "onehot_model_dev_3616_3648.p\n",
      "onehot_model_dev_3648_3680.p\n",
      "onehot_model_dev_3680_3712.p\n",
      "onehot_model_dev_3712_3744.p\n",
      "onehot_model_dev_3744_3776.p\n",
      "onehot_model_dev_3776_3808.p\n"
     ]
    },
    {
     "ename": "KeyboardInterrupt",
     "evalue": "",
     "output_type": "error",
     "traceback": [
      "\u001b[1;31m---------------------------------------------------------------------------\u001b[0m",
      "\u001b[1;31mKeyboardInterrupt\u001b[0m                         Traceback (most recent call last)",
      "\u001b[1;32m~\\AppData\\Local\\Temp/ipykernel_2512/1289453173.py\u001b[0m in \u001b[0;36m<module>\u001b[1;34m\u001b[0m\n\u001b[0;32m      5\u001b[0m             \u001b[0mgraph\u001b[0m\u001b[1;33m=\u001b[0m\u001b[0mpickle\u001b[0m\u001b[1;33m.\u001b[0m\u001b[0mload\u001b[0m\u001b[1;33m(\u001b[0m\u001b[0msource\u001b[0m\u001b[1;33m.\u001b[0m\u001b[0mopen\u001b[0m\u001b[1;33m(\u001b[0m\u001b[0mfilename\u001b[0m\u001b[1;33m,\u001b[0m\u001b[1;34m\"r\"\u001b[0m\u001b[1;33m)\u001b[0m\u001b[1;33m)\u001b[0m\u001b[1;33m\u001b[0m\u001b[1;33m\u001b[0m\u001b[0m\n\u001b[0;32m      6\u001b[0m             \u001b[0mn_nodes\u001b[0m\u001b[1;33m=\u001b[0m\u001b[0mgraph\u001b[0m\u001b[1;33m.\u001b[0m\u001b[0mnum_nodes\u001b[0m\u001b[1;33m(\u001b[0m\u001b[1;33m)\u001b[0m\u001b[1;33m\u001b[0m\u001b[1;33m\u001b[0m\u001b[0m\n\u001b[1;32m----> 7\u001b[1;33m             \u001b[0mnew_graph\u001b[0m\u001b[1;33m=\u001b[0m\u001b[0mdgl\u001b[0m\u001b[1;33m.\u001b[0m\u001b[0mfrom_scipy\u001b[0m\u001b[1;33m(\u001b[0m\u001b[0mscipy\u001b[0m\u001b[1;33m.\u001b[0m\u001b[0msparse\u001b[0m\u001b[1;33m.\u001b[0m\u001b[0mcsr_matrix\u001b[0m\u001b[1;33m(\u001b[0m\u001b[0mnp\u001b[0m\u001b[1;33m.\u001b[0m\u001b[0meye\u001b[0m\u001b[1;33m(\u001b[0m\u001b[0mn_nodes\u001b[0m\u001b[1;33m)\u001b[0m\u001b[1;33m)\u001b[0m\u001b[1;33m)\u001b[0m\u001b[1;33m\u001b[0m\u001b[1;33m\u001b[0m\u001b[0m\n\u001b[0m\u001b[0;32m      8\u001b[0m             \u001b[0mnew_graph\u001b[0m\u001b[1;33m.\u001b[0m\u001b[0mndata\u001b[0m\u001b[1;33m[\u001b[0m\u001b[1;34m\"label\"\u001b[0m\u001b[1;33m]\u001b[0m\u001b[1;33m=\u001b[0m\u001b[0mgraph\u001b[0m\u001b[1;33m.\u001b[0m\u001b[0mndata\u001b[0m\u001b[1;33m[\u001b[0m\u001b[1;34m\"label\"\u001b[0m\u001b[1;33m]\u001b[0m\u001b[1;33m\u001b[0m\u001b[1;33m\u001b[0m\u001b[0m\n\u001b[0;32m      9\u001b[0m             \u001b[0mnew_graph\u001b[0m\u001b[1;33m.\u001b[0m\u001b[0mndata\u001b[0m\u001b[1;33m[\u001b[0m\u001b[1;34m\"feat\"\u001b[0m\u001b[1;33m]\u001b[0m\u001b[1;33m=\u001b[0m\u001b[0mgraph\u001b[0m\u001b[1;33m.\u001b[0m\u001b[0mndata\u001b[0m\u001b[1;33m[\u001b[0m\u001b[1;34m\"feat\"\u001b[0m\u001b[1;33m]\u001b[0m\u001b[1;33m\u001b[0m\u001b[1;33m\u001b[0m\u001b[0m\n",
      "\u001b[1;32mc:\\Users\\ab\\anaconda3\\lib\\site-packages\\scipy\\sparse\\compressed.py\u001b[0m in \u001b[0;36m__init__\u001b[1;34m(self, arg1, shape, dtype, copy)\u001b[0m\n\u001b[0;32m     84\u001b[0m                                  \"\".format(self.format)) from e\n\u001b[0;32m     85\u001b[0m             \u001b[1;32mfrom\u001b[0m \u001b[1;33m.\u001b[0m\u001b[0mcoo\u001b[0m \u001b[1;32mimport\u001b[0m \u001b[0mcoo_matrix\u001b[0m\u001b[1;33m\u001b[0m\u001b[1;33m\u001b[0m\u001b[0m\n\u001b[1;32m---> 86\u001b[1;33m             \u001b[0mself\u001b[0m\u001b[1;33m.\u001b[0m\u001b[0m_set_self\u001b[0m\u001b[1;33m(\u001b[0m\u001b[0mself\u001b[0m\u001b[1;33m.\u001b[0m\u001b[0m__class__\u001b[0m\u001b[1;33m(\u001b[0m\u001b[0mcoo_matrix\u001b[0m\u001b[1;33m(\u001b[0m\u001b[0marg1\u001b[0m\u001b[1;33m,\u001b[0m \u001b[0mdtype\u001b[0m\u001b[1;33m=\u001b[0m\u001b[0mdtype\u001b[0m\u001b[1;33m)\u001b[0m\u001b[1;33m)\u001b[0m\u001b[1;33m)\u001b[0m\u001b[1;33m\u001b[0m\u001b[1;33m\u001b[0m\u001b[0m\n\u001b[0m\u001b[0;32m     87\u001b[0m \u001b[1;33m\u001b[0m\u001b[0m\n\u001b[0;32m     88\u001b[0m         \u001b[1;31m# Read matrix dimensions given, if any\u001b[0m\u001b[1;33m\u001b[0m\u001b[1;33m\u001b[0m\u001b[0m\n",
      "\u001b[1;32mc:\\Users\\ab\\anaconda3\\lib\\site-packages\\scipy\\sparse\\coo.py\u001b[0m in \u001b[0;36m__init__\u001b[1;34m(self, arg1, shape, dtype, copy)\u001b[0m\n\u001b[0;32m    187\u001b[0m                                          (shape, self._shape))\n\u001b[0;32m    188\u001b[0m \u001b[1;33m\u001b[0m\u001b[0m\n\u001b[1;32m--> 189\u001b[1;33m                 \u001b[0mself\u001b[0m\u001b[1;33m.\u001b[0m\u001b[0mrow\u001b[0m\u001b[1;33m,\u001b[0m \u001b[0mself\u001b[0m\u001b[1;33m.\u001b[0m\u001b[0mcol\u001b[0m \u001b[1;33m=\u001b[0m \u001b[0mM\u001b[0m\u001b[1;33m.\u001b[0m\u001b[0mnonzero\u001b[0m\u001b[1;33m(\u001b[0m\u001b[1;33m)\u001b[0m\u001b[1;33m\u001b[0m\u001b[1;33m\u001b[0m\u001b[0m\n\u001b[0m\u001b[0;32m    190\u001b[0m                 \u001b[0mself\u001b[0m\u001b[1;33m.\u001b[0m\u001b[0mdata\u001b[0m \u001b[1;33m=\u001b[0m \u001b[0mM\u001b[0m\u001b[1;33m[\u001b[0m\u001b[0mself\u001b[0m\u001b[1;33m.\u001b[0m\u001b[0mrow\u001b[0m\u001b[1;33m,\u001b[0m \u001b[0mself\u001b[0m\u001b[1;33m.\u001b[0m\u001b[0mcol\u001b[0m\u001b[1;33m]\u001b[0m\u001b[1;33m\u001b[0m\u001b[1;33m\u001b[0m\u001b[0m\n\u001b[0;32m    191\u001b[0m                 \u001b[0mself\u001b[0m\u001b[1;33m.\u001b[0m\u001b[0mhas_canonical_format\u001b[0m \u001b[1;33m=\u001b[0m \u001b[1;32mTrue\u001b[0m\u001b[1;33m\u001b[0m\u001b[1;33m\u001b[0m\u001b[0m\n",
      "\u001b[1;31mKeyboardInterrupt\u001b[0m: "
     ]
    }
   ],
   "source": [
    "with zipfile.ZipFile(\"../DATA/holo4k batched/onehot_model_dev_no_graph_batched_32.zip\",\"w\") as thezip:\n",
    "    with zipfile.ZipFile(\"../DATA/holo4k batched/onehot_model_dev_batched_32.zip\") as source:\n",
    "        for filename in source.namelist():\n",
    "            print(filename)\n",
    "            graph=pickle.load(source.open(filename,\"r\"))\n",
    "            n_nodes=graph.num_nodes()\n",
    "            new_graph=dgl.from_scipy(scipy.sparse.csr_matrix(np.eye(n_nodes)))\n",
    "            new_graph.ndata[\"label\"]=graph.ndata[\"label\"]\n",
    "            new_graph.ndata[\"feat\"]=graph.ndata[\"feat\"]\n",
    "            pickle.dump(new_graph,open(filename,\"wb\"))\n",
    "            thezip.write(filename,filename,compress_type=zipfile.ZIP_BZIP2)\n",
    "            os.remove(filename)"
   ]
  },
  {
   "cell_type": "code",
   "execution_count": 17,
   "metadata": {},
   "outputs": [
    {
     "name": "stdout",
     "output_type": "stream",
     "text": [
      "precision 0.2995564930499216\n",
      "Sensitivity 0.47983539094650207\n",
      "Negative predictive value 0.9484243395197209\n",
      "Specificity 0.8950169425574345\n"
     ]
    }
   ],
   "source": [
    "TN=220815\n",
    "FP=25901   \n",
    "FN=12008   \n",
    "TP=11077\n",
    "\n",
    "print(\"precision\",TP/(TP+FP))\n",
    "print(\"Sensitivity\",TP/(TP+FN))\n",
    "print(\"Negative predictive value\",TN/(TN+FN))\n",
    "print(\"Specificity\",TN/(TN+FP))"
   ]
  },
  {
   "cell_type": "code",
   "execution_count": null,
   "metadata": {},
   "outputs": [],
   "source": []
  }
 ],
 "metadata": {
  "kernelspec": {
   "display_name": "Python 3.8.13 ('machi')",
   "language": "python",
   "name": "python3"
  },
  "language_info": {
   "codemirror_mode": {
    "name": "ipython",
    "version": 3
   },
   "file_extension": ".py",
   "mimetype": "text/x-python",
   "name": "python",
   "nbconvert_exporter": "python",
   "pygments_lexer": "ipython3",
   "version": "3.8.13"
  },
  "orig_nbformat": 4,
  "vscode": {
   "interpreter": {
    "hash": "02fee92d442d0f9d4485f8f453e7459dcadc84c5c3c5a08b0e40f5cd304b2f4d"
   }
  }
 },
 "nbformat": 4,
 "nbformat_minor": 2
}
